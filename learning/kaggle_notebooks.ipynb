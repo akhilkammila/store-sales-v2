{
 "cells": [
  {
   "cell_type": "markdown",
   "metadata": {},
   "source": [
    "# Testing some syntax from kaggle posts"
   ]
  },
  {
   "cell_type": "code",
   "execution_count": 2,
   "metadata": {},
   "outputs": [],
   "source": [
    "import pandas as pd\n",
    "import numpy as np\n",
    "import seaborn as sns\n",
    "import matplotlib.pyplot as plt\n",
    "import os\n",
    "from sklearn.metrics import root_mean_squared_log_error, root_mean_squared_error\n",
    "import lightgbm as lgb"
   ]
  },
  {
   "cell_type": "code",
   "execution_count": 3,
   "metadata": {},
   "outputs": [],
   "source": [
    "train_df = pd.read_csv('data/train.csv')\n",
    "test_df = pd.read_csv('data/test.csv')\n",
    "transactions_df = pd.read_csv('data/transactions.csv')\n",
    "oil_df = pd.read_csv('data/oil.csv')\n",
    "holidays_df = pd.read_csv('data/holidays_events.csv')\n",
    "stores_df = pd.read_csv('data/stores.csv')\n",
    "\n",
    "train_df = train_df.drop(columns='id')\n",
    "train_df['date'] = pd.to_datetime(train_df['date'])\n",
    "\n",
    "test_df = test_df.drop(columns='id')\n",
    "test_df['date'] = pd.to_datetime(test_df['date'])\n",
    "\n",
    "mask = oil_df.isna().sum(axis=1).astype(bool)\n",
    "oil_df = oil_df.ffill().bfill()\n",
    "oil_df['date'] = pd.to_datetime(oil_df['date'])"
   ]
  },
  {
   "cell_type": "code",
   "execution_count": 12,
   "metadata": {},
   "outputs": [
    {
     "data": {
      "text/plain": [
       "3000888"
      ]
     },
     "execution_count": 12,
     "metadata": {},
     "output_type": "execute_result"
    }
   ],
   "source": [
    "len(train_df)"
   ]
  },
  {
   "cell_type": "code",
   "execution_count": 15,
   "metadata": {},
   "outputs": [],
   "source": [
    "keys = ['store_nbr']\n",
    "val = 'sales'\n",
    "lag = 1\n",
    "shifted = train_df.groupby(keys)[val].shift(lag)"
   ]
  },
  {
   "cell_type": "code",
   "execution_count": 18,
   "metadata": {},
   "outputs": [
    {
     "data": {
      "text/plain": [
       "0                 NaN\n",
       "1                 NaN\n",
       "2            0.000000\n",
       "3            0.000000\n",
       "4            0.000000\n",
       "              ...    \n",
       "3000883    246.926063\n",
       "3000884    221.767188\n",
       "3000885    348.653875\n",
       "3000886    483.040562\n",
       "3000887    591.737375\n",
       "Name: sales, Length: 3000888, dtype: float64"
      ]
     },
     "execution_count": 18,
     "metadata": {},
     "output_type": "execute_result"
    }
   ],
   "source": [
    "train_df.groupby(keys)[val].transform(\n",
    "  lambda x: x.rolling(window=7, min_periods=3, win_type=\"triang\").mean())"
   ]
  }
 ],
 "metadata": {
  "kernelspec": {
   "display_name": "tradingClub",
   "language": "python",
   "name": "python3"
  },
  "language_info": {
   "codemirror_mode": {
    "name": "ipython",
    "version": 3
   },
   "file_extension": ".py",
   "mimetype": "text/x-python",
   "name": "python",
   "nbconvert_exporter": "python",
   "pygments_lexer": "ipython3",
   "version": "3.12.5"
  }
 },
 "nbformat": 4,
 "nbformat_minor": 2
}
