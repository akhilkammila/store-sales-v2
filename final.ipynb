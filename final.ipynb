{
 "cells": [
  {
   "cell_type": "markdown",
   "metadata": {},
   "source": [
    "# Plan\n",
    "Get predictions for test data\n",
    "\n",
    "1. Run same model as in 15d --> for 7d, then 14d, then 21d"
   ]
  },
  {
   "cell_type": "code",
   "execution_count": 79,
   "metadata": {},
   "outputs": [],
   "source": [
    "import pandas as pd\n",
    "import numpy as np\n",
    "import seaborn as sns\n",
    "import matplotlib.pyplot as plt\n",
    "import os\n",
    "from sklearn.metrics import root_mean_squared_log_error, root_mean_squared_error\n",
    "import lightgbm as lgb"
   ]
  },
  {
   "cell_type": "code",
   "execution_count": 80,
   "metadata": {},
   "outputs": [],
   "source": [
    "train_df = pd.read_csv('data/train.csv')\n",
    "test_df = pd.read_csv('data/test.csv')\n",
    "transactions_df = pd.read_csv('data/transactions.csv')\n",
    "oil_df = pd.read_csv('data/oil.csv')\n",
    "holidays_df = pd.read_csv('data/holidays_events.csv')\n",
    "stores_df = pd.read_csv('data/stores.csv')\n",
    "\n",
    "train_df = train_df.drop(columns='id')\n",
    "train_df['date'] = pd.to_datetime(train_df['date'])\n",
    "\n",
    "test_df = test_df.drop(columns='id')\n",
    "test_df['date'] = pd.to_datetime(test_df['date'])\n",
    "\n",
    "mask = oil_df.isna().sum(axis=1).astype(bool)\n",
    "oil_df = oil_df.ffill().bfill()\n",
    "oil_df['date'] = pd.to_datetime(oil_df['date'])"
   ]
  },
  {
   "cell_type": "code",
   "execution_count": 81,
   "metadata": {},
   "outputs": [
    {
     "name": "stdout",
     "output_type": "stream",
     "text": [
      "% Decrease 0.0005938242280285036\n"
     ]
    }
   ],
   "source": [
    "# delete leap year days\n",
    "before_len = len(train_df)\n",
    "train_df = train_df[train_df['date'] != pd.to_datetime('2016-02-29')]\n",
    "after_len = len(train_df)\n",
    "\n",
    "print(\"% Decrease\", (before_len - after_len)/before_len)"
   ]
  },
  {
   "cell_type": "code",
   "execution_count": 82,
   "metadata": {},
   "outputs": [],
   "source": [
    "def memory_reduce(df):\n",
    "    start_mem = df.memory_usage().sum() / 1024**2\n",
    "    \n",
    "    for col in df.columns:\n",
    "        col_type = df[col].dtype\n",
    "\n",
    "        if col_type != object and col_type.name != 'category':\n",
    "            if np.issubdtype(col_type, np.integer):\n",
    "                df[col] = pd.to_numeric(df[col], downcast='integer')\n",
    "            elif np.issubdtype(col_type, np.floating):\n",
    "                df[col] = pd.to_numeric(df[col], downcast='float')\n",
    "\n",
    "        if col_type == object:\n",
    "            df[col] = df[col].astype('category')\n",
    "    \n",
    "    end_mem = df.memory_usage().sum() / 1024**2\n",
    "    print(f\"Memory usage reduced from {start_mem:.2f} MB to {end_mem:.2f} MB \"\n",
    "          f\"({100 * (start_mem - end_mem) / start_mem:.1f}% reduction)\")\n",
    "    return df\n",
    "\n",
    "def prepareModel(df, setting = 1):\n",
    "    # combined will be the running combined df\n",
    "    lag_features = df.copy()\n",
    "\n",
    "    settingMap = \\\n",
    "        {\n",
    "            1: ['7D', '14D', '21D'],\n",
    "            2: ['14D', '21D', '28D'],\n",
    "            3: ['21D', '28D', '35D']\n",
    "        }\n",
    "    baseDay = settingMap[setting][0]\n",
    "    baseSales = f'sales{baseDay}'\n",
    "\n",
    "    # 1. 14d ago lag\n",
    "    for lag in settingMap[setting]: # these are the defining lags\n",
    "        shiftd = train_df.copy()\n",
    "        shiftd['date'] = shiftd['date'] + pd.Timedelta(lag)\n",
    "        shiftd = shiftd[['date', 'store_nbr', 'family', 'sales']].rename(columns={'sales': f'sales{lag}'})\n",
    "        lag_features = pd.merge(lag_features, shiftd, how='inner', on=['date', 'store_nbr', 'family'])\n",
    "\n",
    "    lag_features.head()\n",
    "\n",
    "    # 2. rolling (over the past 1w, what is avg)\n",
    "    rolling_features = lag_features.copy()\n",
    "\n",
    "    for lag in ['7D', '14D', '28D', '365D']:\n",
    "        rollingd = lag_features.groupby(['store_nbr', 'family']).rolling(lag, on='date')[baseSales].mean()\n",
    "        rollingd = rollingd.reset_index()[['date', 'store_nbr', 'family', baseSales]].rename(columns={baseSales: f'rolling{lag}'})\n",
    "        rolling_features = pd.merge(rolling_features, rollingd, how='inner', on=['date', 'store_nbr', 'family'])\n",
    "\n",
    "    rolling_features = rolling_features.dropna(axis=0)\n",
    "    rolling_features.head(10)\n",
    "\n",
    "    # 3. day of week for the last month\n",
    "    dow_features = rolling_features.copy()\n",
    "    dow_features['day_of_week'] = dow_features['date'].dt.day_of_week\n",
    "\n",
    "    for lag in ['7D', '14D', '28D', '365D']:\n",
    "        same_dow = dow_features.groupby(['store_nbr', 'family', 'day_of_week']).rolling(lag, on='date')[baseSales].mean()\n",
    "        same_dow = same_dow.rename(f'dow{lag}')\n",
    "        dow_features = pd.merge(dow_features, same_dow, on=['store_nbr', 'family', 'date'])\n",
    "\n",
    "    # 4. ratios of rolling to dow\n",
    "    ratio = dow_features.copy()\n",
    "    for lag in ['14D', '28D', '365D']:\n",
    "        ratio[f'dowratio{lag}'] = ratio[f'rolling{lag}'] / ratio[f'dow{lag}']\n",
    "\n",
    "    # 6. is holiday\n",
    "    holiday_features = ratio.copy()\n",
    "\n",
    "    holidays_df['date'] = pd.to_datetime(holidays_df['date'])\n",
    "    holiday_features['is_holiday'] = holiday_features['date'].isin(holidays_df['date'])\n",
    "\n",
    "    shifted_holiday = holiday_features.copy()\n",
    "    shifted_holiday['date'] = shifted_holiday['date'] + pd.Timedelta('14D')\n",
    "    shifted_holiday = shifted_holiday[['date', 'is_holiday', 'store_nbr', 'family']].rename(columns={'is_holiday': 'shift_is_holiday'})\n",
    "\n",
    "    holiday_features = pd.merge(holiday_features, shifted_holiday, on=['date', 'store_nbr', 'family'], how='inner')\n",
    "\n",
    "    return memory_reduce(holiday_features)"
   ]
  },
  {
   "cell_type": "code",
   "execution_count": 83,
   "metadata": {},
   "outputs": [],
   "source": [
    "def sampleTest(cleaned):\n",
    "    dates = cleaned['date']\n",
    "    X = cleaned.drop(columns=['date', 'sales'])\n",
    "    y = cleaned['sales']\n",
    "\n",
    "    X_train, y_train = X[dates < pd.to_datetime('2017-01-01')], y[dates < pd.to_datetime('2017-01-01')]\n",
    "    X_test, y_test = X[dates >= pd.to_datetime('2017-01-01')], y[dates >= pd.to_datetime('2017-01-01')]\n",
    "\n",
    "    categorical_features = X_train.select_dtypes(include='category').columns\n",
    "\n",
    "    model = lgb.LGBMRegressor(\n",
    "                n_estimators=100,\n",
    "                num_leaves=31,\n",
    "                learning_rate = 0.1\n",
    "            )\n",
    "\n",
    "    model.fit(X_train,\n",
    "            np.log1p(y_train),\n",
    "            categorical_feature=categorical_features)\n",
    "    \n",
    "    predictions = model.predict(X_test)\n",
    "    overall_rmse = root_mean_squared_error(predictions, np.log1p(y_test))\n",
    "\n",
    "    chunks = 20\n",
    "    step = len(y_test)//chunks\n",
    "\n",
    "    results = []\n",
    "    for start_idx in np.arange(start=0, stop=len(y_test), step=step):\n",
    "        end_idx = start_idx + step\n",
    "        rmse = root_mean_squared_error(predictions[start_idx:end_idx], np.log1p(y_test[start_idx:end_idx]))\n",
    "        results.append(rmse)\n",
    "\n",
    "    print(overall_rmse)\n",
    "    print(results)"
   ]
  },
  {
   "cell_type": "code",
   "execution_count": 84,
   "metadata": {},
   "outputs": [
    {
     "ename": "KeyboardInterrupt",
     "evalue": "",
     "output_type": "error",
     "traceback": [
      "\u001b[0;31m---------------------------------------------------------------------------\u001b[0m",
      "\u001b[0;31mKeyboardInterrupt\u001b[0m                         Traceback (most recent call last)",
      "Cell \u001b[0;32mIn[84], line 1\u001b[0m\n\u001b[0;32m----> 1\u001b[0m cleaned \u001b[38;5;241m=\u001b[39m \u001b[43mprepareModel\u001b[49m\u001b[43m(\u001b[49m\u001b[43mtrain_df\u001b[49m\u001b[43m,\u001b[49m\u001b[43m \u001b[49m\u001b[43msetting\u001b[49m\u001b[38;5;241;43m=\u001b[39;49m\u001b[38;5;241;43m3\u001b[39;49m\u001b[43m)\u001b[49m\n\u001b[1;32m      2\u001b[0m sampleTest(cleaned)\n",
      "Cell \u001b[0;32mIn[82], line 61\u001b[0m, in \u001b[0;36mprepareModel\u001b[0;34m(df, setting)\u001b[0m\n\u001b[1;32m     59\u001b[0m     same_dow \u001b[38;5;241m=\u001b[39m dow_features\u001b[38;5;241m.\u001b[39mgroupby([\u001b[38;5;124m'\u001b[39m\u001b[38;5;124mstore_nbr\u001b[39m\u001b[38;5;124m'\u001b[39m, \u001b[38;5;124m'\u001b[39m\u001b[38;5;124mfamily\u001b[39m\u001b[38;5;124m'\u001b[39m, \u001b[38;5;124m'\u001b[39m\u001b[38;5;124mday_of_week\u001b[39m\u001b[38;5;124m'\u001b[39m])\u001b[38;5;241m.\u001b[39mrolling(lag, on\u001b[38;5;241m=\u001b[39m\u001b[38;5;124m'\u001b[39m\u001b[38;5;124mdate\u001b[39m\u001b[38;5;124m'\u001b[39m)[baseSales]\u001b[38;5;241m.\u001b[39mmean()\n\u001b[1;32m     60\u001b[0m     same_dow \u001b[38;5;241m=\u001b[39m same_dow\u001b[38;5;241m.\u001b[39mrename(\u001b[38;5;124mf\u001b[39m\u001b[38;5;124m'\u001b[39m\u001b[38;5;124mdow\u001b[39m\u001b[38;5;132;01m{\u001b[39;00mlag\u001b[38;5;132;01m}\u001b[39;00m\u001b[38;5;124m'\u001b[39m)\n\u001b[0;32m---> 61\u001b[0m     dow_features \u001b[38;5;241m=\u001b[39m \u001b[43mpd\u001b[49m\u001b[38;5;241;43m.\u001b[39;49m\u001b[43mmerge\u001b[49m\u001b[43m(\u001b[49m\u001b[43mdow_features\u001b[49m\u001b[43m,\u001b[49m\u001b[43m \u001b[49m\u001b[43msame_dow\u001b[49m\u001b[43m,\u001b[49m\u001b[43m \u001b[49m\u001b[43mon\u001b[49m\u001b[38;5;241;43m=\u001b[39;49m\u001b[43m[\u001b[49m\u001b[38;5;124;43m'\u001b[39;49m\u001b[38;5;124;43mstore_nbr\u001b[39;49m\u001b[38;5;124;43m'\u001b[39;49m\u001b[43m,\u001b[49m\u001b[43m \u001b[49m\u001b[38;5;124;43m'\u001b[39;49m\u001b[38;5;124;43mfamily\u001b[39;49m\u001b[38;5;124;43m'\u001b[39;49m\u001b[43m,\u001b[49m\u001b[43m \u001b[49m\u001b[38;5;124;43m'\u001b[39;49m\u001b[38;5;124;43mdate\u001b[39;49m\u001b[38;5;124;43m'\u001b[39;49m\u001b[43m]\u001b[49m\u001b[43m)\u001b[49m\n\u001b[1;32m     63\u001b[0m \u001b[38;5;66;03m# 4. ratios of rolling to dow\u001b[39;00m\n\u001b[1;32m     64\u001b[0m ratio \u001b[38;5;241m=\u001b[39m dow_features\u001b[38;5;241m.\u001b[39mcopy()\n",
      "File \u001b[0;32m~/miniconda3/envs/tradingClub/lib/python3.12/site-packages/pandas/core/reshape/merge.py:184\u001b[0m, in \u001b[0;36mmerge\u001b[0;34m(left, right, how, on, left_on, right_on, left_index, right_index, sort, suffixes, copy, indicator, validate)\u001b[0m\n\u001b[1;32m    169\u001b[0m \u001b[38;5;28;01melse\u001b[39;00m:\n\u001b[1;32m    170\u001b[0m     op \u001b[38;5;241m=\u001b[39m _MergeOperation(\n\u001b[1;32m    171\u001b[0m         left_df,\n\u001b[1;32m    172\u001b[0m         right_df,\n\u001b[0;32m   (...)\u001b[0m\n\u001b[1;32m    182\u001b[0m         validate\u001b[38;5;241m=\u001b[39mvalidate,\n\u001b[1;32m    183\u001b[0m     )\n\u001b[0;32m--> 184\u001b[0m     \u001b[38;5;28;01mreturn\u001b[39;00m \u001b[43mop\u001b[49m\u001b[38;5;241;43m.\u001b[39;49m\u001b[43mget_result\u001b[49m\u001b[43m(\u001b[49m\u001b[43mcopy\u001b[49m\u001b[38;5;241;43m=\u001b[39;49m\u001b[43mcopy\u001b[49m\u001b[43m)\u001b[49m\n",
      "File \u001b[0;32m~/miniconda3/envs/tradingClub/lib/python3.12/site-packages/pandas/core/reshape/merge.py:886\u001b[0m, in \u001b[0;36m_MergeOperation.get_result\u001b[0;34m(self, copy)\u001b[0m\n\u001b[1;32m    883\u001b[0m \u001b[38;5;28;01mif\u001b[39;00m \u001b[38;5;28mself\u001b[39m\u001b[38;5;241m.\u001b[39mindicator:\n\u001b[1;32m    884\u001b[0m     \u001b[38;5;28mself\u001b[39m\u001b[38;5;241m.\u001b[39mleft, \u001b[38;5;28mself\u001b[39m\u001b[38;5;241m.\u001b[39mright \u001b[38;5;241m=\u001b[39m \u001b[38;5;28mself\u001b[39m\u001b[38;5;241m.\u001b[39m_indicator_pre_merge(\u001b[38;5;28mself\u001b[39m\u001b[38;5;241m.\u001b[39mleft, \u001b[38;5;28mself\u001b[39m\u001b[38;5;241m.\u001b[39mright)\n\u001b[0;32m--> 886\u001b[0m join_index, left_indexer, right_indexer \u001b[38;5;241m=\u001b[39m \u001b[38;5;28;43mself\u001b[39;49m\u001b[38;5;241;43m.\u001b[39;49m\u001b[43m_get_join_info\u001b[49m\u001b[43m(\u001b[49m\u001b[43m)\u001b[49m\n\u001b[1;32m    888\u001b[0m result \u001b[38;5;241m=\u001b[39m \u001b[38;5;28mself\u001b[39m\u001b[38;5;241m.\u001b[39m_reindex_and_concat(\n\u001b[1;32m    889\u001b[0m     join_index, left_indexer, right_indexer, copy\u001b[38;5;241m=\u001b[39mcopy\n\u001b[1;32m    890\u001b[0m )\n\u001b[1;32m    891\u001b[0m result \u001b[38;5;241m=\u001b[39m result\u001b[38;5;241m.\u001b[39m__finalize__(\u001b[38;5;28mself\u001b[39m, method\u001b[38;5;241m=\u001b[39m\u001b[38;5;28mself\u001b[39m\u001b[38;5;241m.\u001b[39m_merge_type)\n",
      "File \u001b[0;32m~/miniconda3/envs/tradingClub/lib/python3.12/site-packages/pandas/core/reshape/merge.py:1151\u001b[0m, in \u001b[0;36m_MergeOperation._get_join_info\u001b[0;34m(self)\u001b[0m\n\u001b[1;32m   1147\u001b[0m     join_index, right_indexer, left_indexer \u001b[38;5;241m=\u001b[39m _left_join_on_index(\n\u001b[1;32m   1148\u001b[0m         right_ax, left_ax, \u001b[38;5;28mself\u001b[39m\u001b[38;5;241m.\u001b[39mright_join_keys, sort\u001b[38;5;241m=\u001b[39m\u001b[38;5;28mself\u001b[39m\u001b[38;5;241m.\u001b[39msort\n\u001b[1;32m   1149\u001b[0m     )\n\u001b[1;32m   1150\u001b[0m \u001b[38;5;28;01melse\u001b[39;00m:\n\u001b[0;32m-> 1151\u001b[0m     (left_indexer, right_indexer) \u001b[38;5;241m=\u001b[39m \u001b[38;5;28;43mself\u001b[39;49m\u001b[38;5;241;43m.\u001b[39;49m\u001b[43m_get_join_indexers\u001b[49m\u001b[43m(\u001b[49m\u001b[43m)\u001b[49m\n\u001b[1;32m   1153\u001b[0m     \u001b[38;5;28;01mif\u001b[39;00m \u001b[38;5;28mself\u001b[39m\u001b[38;5;241m.\u001b[39mright_index:\n\u001b[1;32m   1154\u001b[0m         \u001b[38;5;28;01mif\u001b[39;00m \u001b[38;5;28mlen\u001b[39m(\u001b[38;5;28mself\u001b[39m\u001b[38;5;241m.\u001b[39mleft) \u001b[38;5;241m>\u001b[39m \u001b[38;5;241m0\u001b[39m:\n",
      "File \u001b[0;32m~/miniconda3/envs/tradingClub/lib/python3.12/site-packages/pandas/core/reshape/merge.py:1125\u001b[0m, in \u001b[0;36m_MergeOperation._get_join_indexers\u001b[0;34m(self)\u001b[0m\n\u001b[1;32m   1123\u001b[0m \u001b[38;5;66;03m# make mypy happy\u001b[39;00m\n\u001b[1;32m   1124\u001b[0m \u001b[38;5;28;01massert\u001b[39;00m \u001b[38;5;28mself\u001b[39m\u001b[38;5;241m.\u001b[39mhow \u001b[38;5;241m!=\u001b[39m \u001b[38;5;124m\"\u001b[39m\u001b[38;5;124masof\u001b[39m\u001b[38;5;124m\"\u001b[39m\n\u001b[0;32m-> 1125\u001b[0m \u001b[38;5;28;01mreturn\u001b[39;00m \u001b[43mget_join_indexers\u001b[49m\u001b[43m(\u001b[49m\n\u001b[1;32m   1126\u001b[0m \u001b[43m    \u001b[49m\u001b[38;5;28;43mself\u001b[39;49m\u001b[38;5;241;43m.\u001b[39;49m\u001b[43mleft_join_keys\u001b[49m\u001b[43m,\u001b[49m\u001b[43m \u001b[49m\u001b[38;5;28;43mself\u001b[39;49m\u001b[38;5;241;43m.\u001b[39;49m\u001b[43mright_join_keys\u001b[49m\u001b[43m,\u001b[49m\u001b[43m \u001b[49m\u001b[43msort\u001b[49m\u001b[38;5;241;43m=\u001b[39;49m\u001b[38;5;28;43mself\u001b[39;49m\u001b[38;5;241;43m.\u001b[39;49m\u001b[43msort\u001b[49m\u001b[43m,\u001b[49m\u001b[43m \u001b[49m\u001b[43mhow\u001b[49m\u001b[38;5;241;43m=\u001b[39;49m\u001b[38;5;28;43mself\u001b[39;49m\u001b[38;5;241;43m.\u001b[39;49m\u001b[43mhow\u001b[49m\n\u001b[1;32m   1127\u001b[0m \u001b[43m\u001b[49m\u001b[43m)\u001b[49m\n",
      "File \u001b[0;32m~/miniconda3/envs/tradingClub/lib/python3.12/site-packages/pandas/core/reshape/merge.py:1759\u001b[0m, in \u001b[0;36mget_join_indexers\u001b[0;34m(left_keys, right_keys, sort, how)\u001b[0m\n\u001b[1;32m   1757\u001b[0m     _, lidx, ridx \u001b[38;5;241m=\u001b[39m left\u001b[38;5;241m.\u001b[39mjoin(right, how\u001b[38;5;241m=\u001b[39mhow, return_indexers\u001b[38;5;241m=\u001b[39m\u001b[38;5;28;01mTrue\u001b[39;00m, sort\u001b[38;5;241m=\u001b[39msort)\n\u001b[1;32m   1758\u001b[0m \u001b[38;5;28;01melse\u001b[39;00m:\n\u001b[0;32m-> 1759\u001b[0m     lidx, ridx \u001b[38;5;241m=\u001b[39m \u001b[43mget_join_indexers_non_unique\u001b[49m\u001b[43m(\u001b[49m\n\u001b[1;32m   1760\u001b[0m \u001b[43m        \u001b[49m\u001b[43mleft\u001b[49m\u001b[38;5;241;43m.\u001b[39;49m\u001b[43m_values\u001b[49m\u001b[43m,\u001b[49m\u001b[43m \u001b[49m\u001b[43mright\u001b[49m\u001b[38;5;241;43m.\u001b[39;49m\u001b[43m_values\u001b[49m\u001b[43m,\u001b[49m\u001b[43m \u001b[49m\u001b[43msort\u001b[49m\u001b[43m,\u001b[49m\u001b[43m \u001b[49m\u001b[43mhow\u001b[49m\n\u001b[1;32m   1761\u001b[0m \u001b[43m    \u001b[49m\u001b[43m)\u001b[49m\n\u001b[1;32m   1763\u001b[0m \u001b[38;5;28;01mif\u001b[39;00m lidx \u001b[38;5;129;01mis\u001b[39;00m \u001b[38;5;129;01mnot\u001b[39;00m \u001b[38;5;28;01mNone\u001b[39;00m \u001b[38;5;129;01mand\u001b[39;00m is_range_indexer(lidx, \u001b[38;5;28mlen\u001b[39m(left)):\n\u001b[1;32m   1764\u001b[0m     lidx \u001b[38;5;241m=\u001b[39m \u001b[38;5;28;01mNone\u001b[39;00m\n",
      "File \u001b[0;32m~/miniconda3/envs/tradingClub/lib/python3.12/site-packages/pandas/core/reshape/merge.py:1793\u001b[0m, in \u001b[0;36mget_join_indexers_non_unique\u001b[0;34m(left, right, sort, how)\u001b[0m\n\u001b[1;32m   1770\u001b[0m \u001b[38;5;28;01mdef\u001b[39;00m \u001b[38;5;21mget_join_indexers_non_unique\u001b[39m(\n\u001b[1;32m   1771\u001b[0m     left: ArrayLike,\n\u001b[1;32m   1772\u001b[0m     right: ArrayLike,\n\u001b[1;32m   1773\u001b[0m     sort: \u001b[38;5;28mbool\u001b[39m \u001b[38;5;241m=\u001b[39m \u001b[38;5;28;01mFalse\u001b[39;00m,\n\u001b[1;32m   1774\u001b[0m     how: JoinHow \u001b[38;5;241m=\u001b[39m \u001b[38;5;124m\"\u001b[39m\u001b[38;5;124minner\u001b[39m\u001b[38;5;124m\"\u001b[39m,\n\u001b[1;32m   1775\u001b[0m ) \u001b[38;5;241m-\u001b[39m\u001b[38;5;241m>\u001b[39m \u001b[38;5;28mtuple\u001b[39m[npt\u001b[38;5;241m.\u001b[39mNDArray[np\u001b[38;5;241m.\u001b[39mintp], npt\u001b[38;5;241m.\u001b[39mNDArray[np\u001b[38;5;241m.\u001b[39mintp]]:\n\u001b[1;32m   1776\u001b[0m \u001b[38;5;250m    \u001b[39m\u001b[38;5;124;03m\"\"\"\u001b[39;00m\n\u001b[1;32m   1777\u001b[0m \u001b[38;5;124;03m    Get join indexers for left and right.\u001b[39;00m\n\u001b[1;32m   1778\u001b[0m \n\u001b[0;32m   (...)\u001b[0m\n\u001b[1;32m   1791\u001b[0m \u001b[38;5;124;03m        Indexer into right.\u001b[39;00m\n\u001b[1;32m   1792\u001b[0m \u001b[38;5;124;03m    \"\"\"\u001b[39;00m\n\u001b[0;32m-> 1793\u001b[0m     lkey, rkey, count \u001b[38;5;241m=\u001b[39m \u001b[43m_factorize_keys\u001b[49m\u001b[43m(\u001b[49m\u001b[43mleft\u001b[49m\u001b[43m,\u001b[49m\u001b[43m \u001b[49m\u001b[43mright\u001b[49m\u001b[43m,\u001b[49m\u001b[43m \u001b[49m\u001b[43msort\u001b[49m\u001b[38;5;241;43m=\u001b[39;49m\u001b[43msort\u001b[49m\u001b[43m)\u001b[49m\n\u001b[1;32m   1794\u001b[0m     \u001b[38;5;28;01mif\u001b[39;00m how \u001b[38;5;241m==\u001b[39m \u001b[38;5;124m\"\u001b[39m\u001b[38;5;124mleft\u001b[39m\u001b[38;5;124m\"\u001b[39m:\n\u001b[1;32m   1795\u001b[0m         lidx, ridx \u001b[38;5;241m=\u001b[39m libjoin\u001b[38;5;241m.\u001b[39mleft_outer_join(lkey, rkey, count, sort\u001b[38;5;241m=\u001b[39msort)\n",
      "File \u001b[0;32m~/miniconda3/envs/tradingClub/lib/python3.12/site-packages/pandas/core/reshape/merge.py:2561\u001b[0m, in \u001b[0;36m_factorize_keys\u001b[0;34m(lk, rk, sort)\u001b[0m\n\u001b[1;32m   2554\u001b[0m     rlab \u001b[38;5;241m=\u001b[39m rizer\u001b[38;5;241m.\u001b[39mfactorize(\n\u001b[1;32m   2555\u001b[0m         rk\u001b[38;5;241m.\u001b[39mto_numpy(na_value\u001b[38;5;241m=\u001b[39m\u001b[38;5;241m1\u001b[39m, dtype\u001b[38;5;241m=\u001b[39mlk\u001b[38;5;241m.\u001b[39mdtype\u001b[38;5;241m.\u001b[39mnumpy_dtype), mask\u001b[38;5;241m=\u001b[39mrk\u001b[38;5;241m.\u001b[39misna()\n\u001b[1;32m   2556\u001b[0m     )\n\u001b[1;32m   2557\u001b[0m \u001b[38;5;28;01melse\u001b[39;00m:\n\u001b[1;32m   2558\u001b[0m     \u001b[38;5;66;03m# Argument 1 to \"factorize\" of \"ObjectFactorizer\" has incompatible type\u001b[39;00m\n\u001b[1;32m   2559\u001b[0m     \u001b[38;5;66;03m# \"Union[ndarray[Any, dtype[signedinteger[_64Bit]]],\u001b[39;00m\n\u001b[1;32m   2560\u001b[0m     \u001b[38;5;66;03m# ndarray[Any, dtype[object_]]]\"; expected \"ndarray[Any, dtype[object_]]\"\u001b[39;00m\n\u001b[0;32m-> 2561\u001b[0m     llab \u001b[38;5;241m=\u001b[39m \u001b[43mrizer\u001b[49m\u001b[38;5;241;43m.\u001b[39;49m\u001b[43mfactorize\u001b[49m\u001b[43m(\u001b[49m\u001b[43mlk\u001b[49m\u001b[43m)\u001b[49m  \u001b[38;5;66;03m# type: ignore[arg-type]\u001b[39;00m\n\u001b[1;32m   2562\u001b[0m     rlab \u001b[38;5;241m=\u001b[39m rizer\u001b[38;5;241m.\u001b[39mfactorize(rk)  \u001b[38;5;66;03m# type: ignore[arg-type]\u001b[39;00m\n\u001b[1;32m   2563\u001b[0m \u001b[38;5;28;01massert\u001b[39;00m llab\u001b[38;5;241m.\u001b[39mdtype \u001b[38;5;241m==\u001b[39m np\u001b[38;5;241m.\u001b[39mdtype(np\u001b[38;5;241m.\u001b[39mintp), llab\u001b[38;5;241m.\u001b[39mdtype\n",
      "\u001b[0;31mKeyboardInterrupt\u001b[0m: "
     ]
    }
   ],
   "source": [
    "cleaned = prepareModel(train_df, setting=3)\n",
    "sampleTest(cleaned)"
   ]
  },
  {
   "cell_type": "code",
   "execution_count": 85,
   "metadata": {},
   "outputs": [],
   "source": [
    "def prepareTest(setting=1):\n",
    "    combined_df = pd.concat([train_df, test_df])\n",
    "    combined_df = combined_df.fillna(-1)\n",
    "    clean = prepareModel(combined_df, setting=setting)\n",
    "\n",
    "    dates = clean['date']\n",
    "    X = clean.drop(columns=['date', 'sales'])\n",
    "    y = clean['sales']\n",
    "\n",
    "    test_start = pd.to_datetime('2017-08-16')\n",
    "    test_end_map = {\n",
    "                1: '2017-08-23',\n",
    "                2: '2017-08-30',\n",
    "                3: '2017-09-01'\n",
    "        }\n",
    "    test_end = pd.to_datetime(test_end_map[setting])\n",
    "\n",
    "    X_train, y_train = X[dates < test_start], y[dates < test_start]\n",
    "    X_test, y_test = X[(dates >= test_start) & (dates < test_end)], y[(dates >= test_start) & (dates < test_end)]\n",
    "\n",
    "    categorical_features = X_train.select_dtypes(include='category').columns\n",
    "\n",
    "    model = lgb.LGBMRegressor(\n",
    "                n_estimators=100,\n",
    "                num_leaves=31,\n",
    "                learning_rate = 0.1\n",
    "            )\n",
    "\n",
    "    model.fit(X_train,\n",
    "            np.log1p(y_train),\n",
    "            categorical_feature=categorical_features)\n",
    "    \n",
    "    predictions = model.predict(X_test)\n",
    "    return predictions"
   ]
  },
  {
   "cell_type": "code",
   "execution_count": 86,
   "metadata": {},
   "outputs": [
    {
     "name": "stdout",
     "output_type": "stream",
     "text": [
      "Memory usage reduced from 437.68 MB to 307.48 MB (29.7% reduction)\n",
      "[LightGBM] [Info] Auto-choosing row-wise multi-threading, the overhead of testing was 0.055265 seconds.\n",
      "You can set `force_row_wise=true` to remove the overhead.\n",
      "And if memory is not enough, you can set `force_col_wise=true`.\n",
      "[LightGBM] [Info] Total Bins 3877\n",
      "[LightGBM] [Info] Number of data points in the train set: 2892186, number of used features: 20\n",
      "[LightGBM] [Info] Start training from score 2.949370\n",
      "Memory usage reduced from 437.68 MB to 318.56 MB (27.2% reduction)\n",
      "[LightGBM] [Info] Auto-choosing row-wise multi-threading, the overhead of testing was 0.054369 seconds.\n",
      "You can set `force_row_wise=true` to remove the overhead.\n",
      "And if memory is not enough, you can set `force_col_wise=true`.\n",
      "[LightGBM] [Info] Total Bins 3874\n",
      "[LightGBM] [Info] Number of data points in the train set: 2879712, number of used features: 20\n",
      "[LightGBM] [Info] Start training from score 2.945952\n",
      "Memory usage reduced from 434.99 MB to 316.61 MB (27.2% reduction)\n",
      "[LightGBM] [Info] Auto-choosing row-wise multi-threading, the overhead of testing was 0.056130 seconds.\n",
      "You can set `force_row_wise=true` to remove the overhead.\n",
      "And if memory is not enough, you can set `force_col_wise=true`.\n",
      "[LightGBM] [Info] Total Bins 3872\n",
      "[LightGBM] [Info] Number of data points in the train set: 2858328, number of used features: 20\n",
      "[LightGBM] [Info] Start training from score 2.949391\n"
     ]
    }
   ],
   "source": [
    "overallResults = []\n",
    "for i in range(1, 4):\n",
    "    currentRes = prepareTest(i)\n",
    "    overallResults.append(currentRes)"
   ]
  },
  {
   "cell_type": "code",
   "execution_count": 87,
   "metadata": {},
   "outputs": [],
   "source": [
    "flattened = []\n",
    "\n",
    "prev_length = 0\n",
    "for sublist in overallResults:\n",
    "    flattened.extend(sublist[prev_length:])\n",
    "    prev_length = len(sublist)"
   ]
  },
  {
   "cell_type": "code",
   "execution_count": 88,
   "metadata": {},
   "outputs": [],
   "source": [
    "\n",
    "sales = np.expm1(flattened)\n",
    "\n",
    "ids = pd.read_csv('./data/test.csv')['id']\n",
    "submission = pd.DataFrame({'id': ids, 'sales': sales})\n",
    "submission.to_csv('./submission.csv', index=False)"
   ]
  }
 ],
 "metadata": {
  "kernelspec": {
   "display_name": "tradingClub",
   "language": "python",
   "name": "python3"
  },
  "language_info": {
   "codemirror_mode": {
    "name": "ipython",
    "version": 3
   },
   "file_extension": ".py",
   "mimetype": "text/x-python",
   "name": "python",
   "nbconvert_exporter": "python",
   "pygments_lexer": "ipython3",
   "version": "3.12.5"
  }
 },
 "nbformat": 4,
 "nbformat_minor": 2
}
