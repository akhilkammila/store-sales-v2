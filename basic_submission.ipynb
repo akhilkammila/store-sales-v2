{
 "cells": [
  {
   "cell_type": "markdown",
   "metadata": {},
   "source": [
    "# Simple \"Model\" Submission\n",
    "\n",
    "Guess is the last available data for the same store/family"
   ]
  },
  {
   "cell_type": "code",
   "execution_count": 12,
   "metadata": {},
   "outputs": [],
   "source": [
    "# Import and Load in Data\n",
    "import pandas as pd\n",
    "train_df = pd.read_csv('data/train.csv', parse_dates=['date']).drop(columns='id')\n",
    "test_df = pd.read_csv('data/test.csv', parse_dates=['date'])"
   ]
  },
  {
   "cell_type": "code",
   "execution_count": null,
   "metadata": {},
   "outputs": [],
   "source": [
    "\"\"\" \n",
    "3 line submission\n",
    "Idea: For each row in test, we guess the Sales of the row in the last week of train\n",
    "    with the same FAMILY, STORE_NBR, and DAY OF WEEK\n",
    "\n",
    "    this accounts for day of week trends\n",
    "\n",
    "Code:\n",
    "Extract the day_of_week (a number 0-6) for both train and test\n",
    "Merge_asof is similar to merge, but for the 'on' columns,\n",
    "    it merges the CLOSEST match, instead of exact matches\n",
    "    \n",
    "    the family, store_nbr, and day_of_week are matched exactly\n",
    "    the closest matching 'date' is always in the last week of train\n",
    "\"\"\"\n",
    "\n",
    "train_df['day_of_week'] = train_df['date'].dt.day_of_week\n",
    "test_df['day_of_week'] = test_df['date'].dt.day_of_week\n",
    "merged = pd.merge_asof(test_df, train_df, on='date', by=['family', 'store_nbr', 'day_of_week'])"
   ]
  },
  {
   "cell_type": "code",
   "execution_count": null,
   "metadata": {},
   "outputs": [],
   "source": [
    "# Output to submission file\n",
    "merged[['id', 'sales']].to_csv('./submission.csv', index=False)"
   ]
  }
 ],
 "metadata": {
  "kernelspec": {
   "display_name": "tradingClub",
   "language": "python",
   "name": "python3"
  },
  "language_info": {
   "codemirror_mode": {
    "name": "ipython",
    "version": 3
   },
   "file_extension": ".py",
   "mimetype": "text/x-python",
   "name": "python",
   "nbconvert_exporter": "python",
   "pygments_lexer": "ipython3",
   "version": "3.12.5"
  }
 },
 "nbformat": 4,
 "nbformat_minor": 2
}
