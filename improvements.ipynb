{
 "cells": [
  {
   "cell_type": "markdown",
   "metadata": {},
   "source": [
    "# Improvements after seeing others' Notebooks\n",
    "\n",
    "Inspiration largely from Chong Zhen Jie:\n",
    "- notebook - https://www.kaggle.com/code/chongzhenjie/ecuador-store-sales-global-forecasting-lightgbm/notebook#3.-Model-Training\n",
    "- eda takeaways (not used here)\n",
    "    * missed zero vals (leading, trailing 0s, number of 0s)\n",
    "    * holidays (filtering for region, work days, etc.)\n",
    "    * store clustering\n",
    "\n",
    "- modelling takeaways\n",
    "    * interpolate missing dates (like jan. 01, christmas)\n",
    "    * dif model for each family\n",
    "    * different samples of training data --> ensemble models"
   ]
  },
  {
   "cell_type": "markdown",
   "metadata": {},
   "source": [
    "## What are the main improvements I can make?\n",
    "\n",
    "- features\n",
    "    * oil, oil rolling\n",
    "    * transactions\n",
    "    * store cluster, type, etc.\n",
    "\n",
    "    * holidays merged (city, state, national, work) - or maybe we can delete holidays\n",
    "\n",
    "- modelling\n",
    "    * train dif model per family\n",
    "    * zero out predictions if there are some # of trailing 0s\n",
    "    * train models on dif train periods (can also exclude before 2015), then ensemble\n",
    "    * try weighted lgbm highlighting end of aug (own idea, not sure if itll help at all)"
   ]
  }
 ],
 "metadata": {
  "language_info": {
   "name": "python"
  }
 },
 "nbformat": 4,
 "nbformat_minor": 2
}
